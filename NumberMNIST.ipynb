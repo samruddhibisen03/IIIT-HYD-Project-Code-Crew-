{
  "nbformat": 4,
  "nbformat_minor": 0,
  "metadata": {
    "colab": {
      "provenance": [],
      "include_colab_link": true
    },
    "kernelspec": {
      "name": "python3",
      "display_name": "Python 3"
    },
    "language_info": {
      "name": "python"
    }
  },
  "cells": [
    {
      "cell_type": "markdown",
      "metadata": {
        "id": "view-in-github",
        "colab_type": "text"
      },
      "source": [
        "<a href=\"https://colab.research.google.com/github/samruddhibisen03/IIIT-HYD-Project-Code-Crew-/blob/main/NumberMNIST.ipynb\" target=\"_parent\"><img src=\"https://colab.research.google.com/assets/colab-badge.svg\" alt=\"Open In Colab\"/></a>"
      ]
    },
    {
      "cell_type": "markdown",
      "source": [
        "**Convolutional Neural Networks (CNNs)**\n",
        "\n",
        "Convolutional Neural Networks (CNNs) are specialized for image and grid-like data processing. They use convolutional layers to detect local patterns such as edges and textures, followed by pooling layers to reduce dimensionality. CNNs excel in image recognition and computer vision tasks by capturing spatial hierarchies of features.\n",
        "\n",
        "**Graph Neural Networks (GNNs)**\n",
        "\n",
        "Graph Neural Networks (GNNs) are designed for graph-structured data, learning representations of nodes and edges by aggregating information from neighbors. They are effective for tasks like node classification, link prediction, and graph classification, commonly used in social networks, molecular analysis, and recommendation systems.\n",
        "\n",
        "**MNIST Dataset**\n",
        "\n",
        "The MNIST dataset contains 70,000 28x28 pixel grayscale images of handwritten digits (0-9), with 60,000 for training and 10,000 for testing. It's widely used for testing image processing and machine learning algorithms."
      ],
      "metadata": {
        "id": "Q1DgfPC0VfWk"
      }
    },
    {
      "cell_type": "markdown",
      "source": [
        "**Step 1: Install Necessary Libraries**\n",
        "\n",
        "Here we have installed PyTorch, torchvision for datasets, and matplotlib for plotting."
      ],
      "metadata": {
        "id": "fvyzpvuWJnI2"
      }
    },
    {
      "cell_type": "code",
      "source": [
        "!pip install torch torchvision matplotlib"
      ],
      "metadata": {
        "colab": {
          "base_uri": "https://localhost:8080/"
        },
        "id": "4LjjdsQ5KFcl",
        "outputId": "aff7ed2f-ff74-43b7-f797-cd7bdfd5deda"
      },
      "execution_count": null,
      "outputs": [
        {
          "output_type": "stream",
          "name": "stdout",
          "text": [
            "Requirement already satisfied: torch in /usr/local/lib/python3.10/dist-packages (2.3.1+cu121)\n",
            "Requirement already satisfied: torchvision in /usr/local/lib/python3.10/dist-packages (0.18.1+cu121)\n",
            "Requirement already satisfied: matplotlib in /usr/local/lib/python3.10/dist-packages (3.7.1)\n",
            "Requirement already satisfied: filelock in /usr/local/lib/python3.10/dist-packages (from torch) (3.15.4)\n",
            "Requirement already satisfied: typing-extensions>=4.8.0 in /usr/local/lib/python3.10/dist-packages (from torch) (4.12.2)\n",
            "Requirement already satisfied: sympy in /usr/local/lib/python3.10/dist-packages (from torch) (1.13.0)\n",
            "Requirement already satisfied: networkx in /usr/local/lib/python3.10/dist-packages (from torch) (3.3)\n",
            "Requirement already satisfied: jinja2 in /usr/local/lib/python3.10/dist-packages (from torch) (3.1.4)\n",
            "Requirement already satisfied: fsspec in /usr/local/lib/python3.10/dist-packages (from torch) (2023.6.0)\n",
            "Requirement already satisfied: nvidia-cuda-nvrtc-cu12==12.1.105 in /usr/local/lib/python3.10/dist-packages (from torch) (12.1.105)\n",
            "Requirement already satisfied: nvidia-cuda-runtime-cu12==12.1.105 in /usr/local/lib/python3.10/dist-packages (from torch) (12.1.105)\n",
            "Requirement already satisfied: nvidia-cuda-cupti-cu12==12.1.105 in /usr/local/lib/python3.10/dist-packages (from torch) (12.1.105)\n",
            "Requirement already satisfied: nvidia-cudnn-cu12==8.9.2.26 in /usr/local/lib/python3.10/dist-packages (from torch) (8.9.2.26)\n",
            "Requirement already satisfied: nvidia-cublas-cu12==12.1.3.1 in /usr/local/lib/python3.10/dist-packages (from torch) (12.1.3.1)\n",
            "Requirement already satisfied: nvidia-cufft-cu12==11.0.2.54 in /usr/local/lib/python3.10/dist-packages (from torch) (11.0.2.54)\n",
            "Requirement already satisfied: nvidia-curand-cu12==10.3.2.106 in /usr/local/lib/python3.10/dist-packages (from torch) (10.3.2.106)\n",
            "Requirement already satisfied: nvidia-cusolver-cu12==11.4.5.107 in /usr/local/lib/python3.10/dist-packages (from torch) (11.4.5.107)\n",
            "Requirement already satisfied: nvidia-cusparse-cu12==12.1.0.106 in /usr/local/lib/python3.10/dist-packages (from torch) (12.1.0.106)\n",
            "Requirement already satisfied: nvidia-nccl-cu12==2.20.5 in /usr/local/lib/python3.10/dist-packages (from torch) (2.20.5)\n",
            "Requirement already satisfied: nvidia-nvtx-cu12==12.1.105 in /usr/local/lib/python3.10/dist-packages (from torch) (12.1.105)\n",
            "Requirement already satisfied: triton==2.3.1 in /usr/local/lib/python3.10/dist-packages (from torch) (2.3.1)\n",
            "Requirement already satisfied: nvidia-nvjitlink-cu12 in /usr/local/lib/python3.10/dist-packages (from nvidia-cusolver-cu12==11.4.5.107->torch) (12.5.82)\n",
            "Requirement already satisfied: numpy in /usr/local/lib/python3.10/dist-packages (from torchvision) (1.25.2)\n",
            "Requirement already satisfied: pillow!=8.3.*,>=5.3.0 in /usr/local/lib/python3.10/dist-packages (from torchvision) (9.4.0)\n",
            "Requirement already satisfied: contourpy>=1.0.1 in /usr/local/lib/python3.10/dist-packages (from matplotlib) (1.2.1)\n",
            "Requirement already satisfied: cycler>=0.10 in /usr/local/lib/python3.10/dist-packages (from matplotlib) (0.12.1)\n",
            "Requirement already satisfied: fonttools>=4.22.0 in /usr/local/lib/python3.10/dist-packages (from matplotlib) (4.53.1)\n",
            "Requirement already satisfied: kiwisolver>=1.0.1 in /usr/local/lib/python3.10/dist-packages (from matplotlib) (1.4.5)\n",
            "Requirement already satisfied: packaging>=20.0 in /usr/local/lib/python3.10/dist-packages (from matplotlib) (24.1)\n",
            "Requirement already satisfied: pyparsing>=2.3.1 in /usr/local/lib/python3.10/dist-packages (from matplotlib) (3.1.2)\n",
            "Requirement already satisfied: python-dateutil>=2.7 in /usr/local/lib/python3.10/dist-packages (from matplotlib) (2.8.2)\n",
            "Requirement already satisfied: six>=1.5 in /usr/local/lib/python3.10/dist-packages (from python-dateutil>=2.7->matplotlib) (1.16.0)\n",
            "Requirement already satisfied: MarkupSafe>=2.0 in /usr/local/lib/python3.10/dist-packages (from jinja2->torch) (2.1.5)\n",
            "Requirement already satisfied: mpmath<1.4,>=1.1.0 in /usr/local/lib/python3.10/dist-packages (from sympy->torch) (1.3.0)\n"
          ]
        }
      ]
    },
    {
      "cell_type": "markdown",
      "source": [
        "**Step 2: Import Libraries**\n",
        "\n",
        "Import necessary libraries for building, training, and visualizing the neural network."
      ],
      "metadata": {
        "id": "sLJ43G6sKMjl"
      }
    },
    {
      "cell_type": "code",
      "source": [
        "import torch\n",
        "import torch.nn as nn\n",
        "import torch.optim as optim\n",
        "import torch.nn.functional as F\n",
        "from torchvision import datasets, transforms\n",
        "import matplotlib.pyplot as plt"
      ],
      "metadata": {
        "id": "bwNpPlJFKafd"
      },
      "execution_count": null,
      "outputs": []
    },
    {
      "cell_type": "markdown",
      "source": [
        "**Step 3: Define Transformations for the Dataset**\n",
        "\n",
        "Convert images to PyTorch tensors and normalize them to have mean 0.5 and standard deviation 0.5."
      ],
      "metadata": {
        "id": "WvPXKIsEKglV"
      }
    },
    {
      "cell_type": "code",
      "source": [
        "transform = transforms.Compose([transforms.ToTensor(), transforms.Normalize((0.5,), (0.5,))])"
      ],
      "metadata": {
        "id": "6t5kGIRyK5TO"
      },
      "execution_count": null,
      "outputs": []
    },
    {
      "cell_type": "markdown",
      "source": [
        "**Step 4: Load the MNIST Dataset**\n",
        "\n",
        "Download and load the MNIST training and test datasets, applying the defined transformations."
      ],
      "metadata": {
        "id": "L9IJ2uT8K8cs"
      }
    },
    {
      "cell_type": "code",
      "source": [
        "train_dataset = datasets.MNIST(root='./data', train=True, download=True, transform=transform)\n",
        "test_dataset = datasets.MNIST(root='./data', train=False, download=True, transform=transform)"
      ],
      "metadata": {
        "id": "iwjJ6oPLLHij"
      },
      "execution_count": null,
      "outputs": []
    },
    {
      "cell_type": "markdown",
      "source": [
        "**Step 5: Create DataLoaders**\n",
        "\n",
        "Create data loaders to iterate through the datasets in batches, shuffling the training data."
      ],
      "metadata": {
        "id": "q03x9zSNLK6F"
      }
    },
    {
      "cell_type": "code",
      "source": [
        "train_loader = torch.utils.data.DataLoader(train_dataset, batch_size=64, shuffle=True)\n",
        "test_loader = torch.utils.data.DataLoader(test_dataset, batch_size=1000, shuffle=False)"
      ],
      "metadata": {
        "id": "x8wktlUNLVTe"
      },
      "execution_count": null,
      "outputs": []
    },
    {
      "cell_type": "markdown",
      "source": [
        "**Step 6:  Define the CNN Model**\n",
        "\n",
        "Define a CNN with two convolutional layers, max-pooling, and three fully connected layers for classification."
      ],
      "metadata": {
        "id": "sIJKAi1MLaEF"
      }
    },
    {
      "cell_type": "code",
      "source": [
        "class CNNNet(nn.Module):\n",
        "    def __init__(self):\n",
        "        super(CNNNet, self).__init__()\n",
        "        self.conv1 = nn.Conv2d(1, 32, kernel_size=3, stride=1, padding=1)\n",
        "        self.conv2 = nn.Conv2d(32, 64, kernel_size=3, stride=1, padding=1)\n",
        "        self.pool = nn.MaxPool2d(kernel_size=2, stride=2, padding=0)\n",
        "        self.fc1 = nn.Linear(64 * 7 * 7, 128)\n",
        "        self.fc2 = nn.Linear(128, 64)\n",
        "        self.fc3 = nn.Linear(64, 10)\n",
        "\n",
        "    def forward(self, x):\n",
        "        x = self.pool(F.relu(self.conv1(x)))\n",
        "        x = self.pool(F.relu(self.conv2(x)))\n",
        "        x = x.view(-1, 64 * 7 * 7)\n",
        "        x = F.relu(self.fc1(x))\n",
        "        x = F.relu(self.fc2(x))\n",
        "        x = self.fc3(x)\n",
        "        return x"
      ],
      "metadata": {
        "id": "mMrUc1vkLkul"
      },
      "execution_count": null,
      "outputs": []
    },
    {
      "cell_type": "markdown",
      "source": [
        "**Step 7: Initialize Model, Loss Function, and Optimizer**\n",
        "\n",
        "Instantiate the CNN model, define the cross-entropy loss function, and set up the Adam optimizer."
      ],
      "metadata": {
        "id": "lfXqR41sLoHF"
      }
    },
    {
      "cell_type": "code",
      "source": [
        "model = CNNNet()\n",
        "criterion = nn.CrossEntropyLoss()\n",
        "optimizer = optim.Adam(model.parameters(), lr=0.001)"
      ],
      "metadata": {
        "id": "oOt8FsvwLy8F"
      },
      "execution_count": null,
      "outputs": []
    },
    {
      "cell_type": "markdown",
      "source": [
        "**Step 8: Training the Model**\n",
        "\n",
        "Train the model for a specified number of epochs, performing forward and backward passes, computing the loss, updating the model weights, and calculating accuracy."
      ],
      "metadata": {
        "id": "Mf2lF3CfL1zM"
      }
    },
    {
      "cell_type": "code",
      "source": [
        "def train(model, train_loader, criterion, optimizer, epochs=5):\n",
        "    model.train()\n",
        "    training_losses = []\n",
        "    training_accuracies = []\n",
        "    for epoch in range(epochs):\n",
        "        running_loss = 0.0\n",
        "        correct = 0\n",
        "        total = 0\n",
        "        for images, labels in train_loader:\n",
        "            optimizer.zero_grad()          # Clear the gradients\n",
        "            outputs = model(images)        # Forward pass\n",
        "            loss = criterion(outputs, labels)  # Compute the loss\n",
        "            loss.backward()                # Backward pass\n",
        "            optimizer.step()               # Update the weights\n",
        "            running_loss += loss.item()\n",
        "\n",
        "            _, predicted = torch.max(outputs, 1)\n",
        "            total += labels.size(0)\n",
        "            correct += (predicted == labels).sum().item()\n",
        "\n",
        "        training_loss = running_loss / len(train_loader)\n",
        "        training_accuracy = correct / total\n",
        "        training_losses.append(training_loss)\n",
        "        training_accuracies.append(training_accuracy)\n",
        "\n",
        "        print(f'Epoch {epoch+1}, Loss: {training_loss}, Accuracy: {training_accuracy}')\n",
        "    return training_losses, training_accuracies"
      ],
      "metadata": {
        "id": "mLcA9zk2MD5k"
      },
      "execution_count": null,
      "outputs": []
    },
    {
      "cell_type": "markdown",
      "source": [
        "**Step 9: Testing the Model**\n",
        "\n",
        "Evaluate the model on the test dataset, calculating the average loss and accuracy without gradient updates."
      ],
      "metadata": {
        "id": "aw2pGVDEMGe1"
      }
    },
    {
      "cell_type": "code",
      "source": [
        "def test(model, test_loader, criterion):\n",
        "    model.eval()\n",
        "    test_loss = 0.0\n",
        "    correct = 0\n",
        "    with torch.no_grad():\n",
        "        for images, labels in test_loader:\n",
        "            outputs = model(images)\n",
        "            test_loss += criterion(outputs, labels).item()\n",
        "            pred = outputs.argmax(dim=1, keepdim=True)\n",
        "            correct += pred.eq(labels.view_as(pred)).sum().item()\n",
        "    test_loss /= len(test_loader.dataset)\n",
        "    test_accuracy = correct / len(test_loader.dataset)\n",
        "    print(f'\\nTest set: Average loss: {test_loss:.4f}, Accuracy: {correct}/{len(test_loader.dataset)} ({100. * test_accuracy:.2f}%)\\n')"
      ],
      "metadata": {
        "id": "FllTVJPBMOtc"
      },
      "execution_count": null,
      "outputs": []
    },
    {
      "cell_type": "markdown",
      "source": [
        "**Step 10: Plotting Training and Validation Loss and Accuracy**\n",
        "\n",
        "Plot the training loss and accuracy over epochs to visualize the model's learning process.\n",
        "\n"
      ],
      "metadata": {
        "id": "kk4aOqZpTRtc"
      }
    },
    {
      "cell_type": "code",
      "source": [
        "def plot_metrics(train_losses, train_accuracies, epochs):\n",
        "    epochs_range = range(1, epochs + 1)\n",
        "    plt.figure(figsize=(12, 4))\n",
        "\n",
        "    plt.subplot(1, 2, 1)\n",
        "    plt.plot(epochs_range, train_losses, label='Training Loss')\n",
        "    plt.title('Training Loss')\n",
        "    plt.xlabel('Epoch')\n",
        "    plt.ylabel('Loss')\n",
        "    plt.legend()\n",
        "\n",
        "    plt.subplot(1, 2, 2)\n",
        "    plt.plot(epochs_range, train_accuracies, label='Training Accuracy')\n",
        "    plt.title('Training Accuracy')\n",
        "    plt.xlabel('Epoch')\n",
        "    plt.ylabel('Accuracy')\n",
        "    plt.legend()\n",
        "\n",
        "    plt.show()"
      ],
      "metadata": {
        "id": "TpFMsMWpTYot"
      },
      "execution_count": null,
      "outputs": []
    },
    {
      "cell_type": "markdown",
      "source": [
        "**Step 11: Visualizing Sample Images**\n",
        "\n",
        "Plot a few sample images from the dataset along with their labels for visualization."
      ],
      "metadata": {
        "id": "_LKX3mwEMQ-E"
      }
    },
    {
      "cell_type": "code",
      "source": [
        "def plot_sample_images(images, labels, num_samples=5):\n",
        "    plt.figure(figsize=(10, 2))\n",
        "    for i in range(num_samples):\n",
        "        plt.subplot(1, num_samples, i+1)\n",
        "        plt.imshow(images[i].view(28, 28), cmap='gray')\n",
        "        plt.title(f\"Label: {labels[i].item()}\")\n",
        "        plt.axis('off')\n",
        "    plt.show()"
      ],
      "metadata": {
        "id": "O1lVF-irMYwt"
      },
      "execution_count": null,
      "outputs": []
    },
    {
      "cell_type": "markdown",
      "source": [
        "**Step 12: Visualizing Model Predictions**\n",
        "\n",
        "Plot a few sample images along with their true labels and the model's predictions for comparison."
      ],
      "metadata": {
        "id": "kONF42ZbMmfF"
      }
    },
    {
      "cell_type": "code",
      "source": [
        "def plot_predictions(images, labels, predictions):\n",
        "    plt.figure(figsize=(10, 2))\n",
        "    for i in range(5):\n",
        "        plt.subplot(1, 5, i+1)\n",
        "        plt.imshow(images[i].view(28, 28), cmap='gray')\n",
        "        plt.title(f\"True: {labels[i].item()}\\nPred: {predictions[i].item()}\")\n",
        "        plt.axis('off')\n",
        "    plt.show()"
      ],
      "metadata": {
        "id": "ykqvTwMEM1Ul"
      },
      "execution_count": null,
      "outputs": []
    },
    {
      "cell_type": "markdown",
      "source": [
        "**Step 13: Train the Model**\n",
        "\n",
        "Train the CNN model on the MNIST training dataset for 5 epochs."
      ],
      "metadata": {
        "id": "9TvJijv5NHbl"
      }
    },
    {
      "cell_type": "code",
      "source": [
        "train(model, train_loader, criterion, optimizer, epochs=5)"
      ],
      "metadata": {
        "colab": {
          "base_uri": "https://localhost:8080/"
        },
        "id": "cOkpizKrNQNd",
        "outputId": "6344f1b6-4490-4085-b125-ac9225c904f8"
      },
      "execution_count": null,
      "outputs": [
        {
          "output_type": "stream",
          "name": "stdout",
          "text": [
            "Epoch 1, Loss: 0.21107412568295497\n",
            "Epoch 2, Loss: 0.05157620142979015\n",
            "Epoch 3, Loss: 0.03636071148897156\n",
            "Epoch 4, Loss: 0.028570058282515257\n",
            "Epoch 5, Loss: 0.021293005072242414\n"
          ]
        }
      ]
    },
    {
      "cell_type": "markdown",
      "source": [
        "**Step 14: Test the Model**\n",
        "\n",
        "Evaluate the trained CNN model on the MNIST test dataset and print the results."
      ],
      "metadata": {
        "id": "noDmUom5NSB1"
      }
    },
    {
      "cell_type": "code",
      "source": [
        "test(model, test_loader, criterion)"
      ],
      "metadata": {
        "colab": {
          "base_uri": "https://localhost:8080/"
        },
        "id": "mMasVRrcNZSc",
        "outputId": "ee68f9a5-976c-46ec-ee84-c5df503eaecf"
      },
      "execution_count": null,
      "outputs": [
        {
          "output_type": "stream",
          "name": "stdout",
          "text": [
            "\n",
            "Test set: Average loss: 0.0000, Accuracy: 9873/10000 (98.73%)\n",
            "\n"
          ]
        }
      ]
    },
    {
      "cell_type": "markdown",
      "source": [
        "**Step 15:  Visualize Some Sample Images**\n",
        "\n",
        "Display a few sample images from the training dataset for visualization."
      ],
      "metadata": {
        "id": "W3lAZeANNb48"
      }
    },
    {
      "cell_type": "code",
      "source": [
        "sample_images, sample_labels = next(iter(train_loader))\n",
        "plot_sample_images(sample_images[:5], sample_labels[:5])"
      ],
      "metadata": {
        "colab": {
          "base_uri": "https://localhost:8080/",
          "height": 192
        },
        "id": "B5Egx9_rNiqd",
        "outputId": "39dc9a67-c3a8-46c1-cbff-3af6b4bf7ec4"
      },
      "execution_count": null,
      "outputs": [
        {
          "output_type": "display_data",
          "data": {
            "text/plain": [
              "<Figure size 1000x200 with 5 Axes>"
            ],
            "image/png": "[encoded data removed]"
          },
          "metadata": {}
        }
      ]
    },
    {
      "cell_type": "markdown",
      "source": [
        "**Step 16: Plot Training Loss and Accuracy**\n",
        "\n",
        "Plot the training loss and accuracy over the epochs to visualize the model's performance."
      ],
      "metadata": {
        "id": "bKV_iKk2T2db"
      }
    },
    {
      "cell_type": "code",
      "source": [
        "def plot_metrics(train_losses, train_accuracies, epochs):\n",
        "  import matplotlib.pyplot as plt\n",
        "\n",
        "  # Plot training loss\n",
        "  plt.figure()\n",
        "  plt.plot(range(1, epochs + 1), train_losses)\n",
        "  plt.xlabel('Epoch')\n",
        "  plt.ylabel('Training Loss')\n",
        "  plt.title('Training Loss over Epochs')\n",
        "  plt.show()\n",
        "\n",
        "  # Plot training accuracy\n",
        "  plt.figure()\n",
        "  plt.plot(range(1, epochs + 1), train_accuracies)\n",
        "  plt.xlabel('Epoch')\n",
        "  plt.ylabel('Training Accuracy')\n",
        "  plt.title('Training Accuracy over Epochs')\n",
        "  plt.show()\n",
        "\n",
        "# Example usage (assuming you have train_losses and train_accuracies defined)\n",
        "train_losses = [0.7, 0.5, 0.4, 0.3, 0.2]\n",
        "train_accuracies = [0.6, 0.7, 0.8, 0.85, 0.9]\n",
        "plot_metrics(train_losses, train_accuracies, epochs=5)"
      ],
      "metadata": {
        "colab": {
          "base_uri": "https://localhost:8080/",
          "height": 927
        },
        "id": "9dSrc67YT-5i",
        "outputId": "5b6cde20-ad89-41d5-c6af-7177f57fa1ff"
      },
      "execution_count": null,
      "outputs": [
        {
          "output_type": "display_data",
          "data": {
            "text/plain": [
              "<Figure size 640x480 with 1 Axes>"
            ],
            "image/png": "[encoded data removed]"
          },
          "metadata": {}
        },
        {
          "output_type": "display_data",
          "data": {
            "text/plain": [
              "<Figure size 640x480 with 1 Axes>"
            ],
            "image/png": "[encoded data removed]"
          },
          "metadata": {}
        }
      ]
    },
    {
      "cell_type": "markdown",
      "source": [
        "**Step 17: Visualize Model Predictions**\n",
        "\n",
        "Show the model's predictions on a few sample images, comparing them with the true labels."
      ],
      "metadata": {
        "id": "fpoa1m4UNv5d"
      }
    },
    {
      "cell_type": "code",
      "source": [
        "model.eval()\n",
        "sample_outputs = model(sample_images[:5])\n",
        "_, sample_predictions = torch.max(sample_outputs, 1)\n",
        "plot_predictions(sample_images[:5], sample_labels[:5], sample_predictions)\n"
      ],
      "metadata": {
        "colab": {
          "base_uri": "https://localhost:8080/",
          "height": 213
        },
        "id": "OC4ltVJ5N4a0",
        "outputId": "a129e9b2-c191-4ab8-d083-e0fa9f090637"
      },
      "execution_count": null,
      "outputs": [
        {
          "output_type": "display_data",
          "data": {
            "text/plain": [
              "<Figure size 1000x200 with 5 Axes>"
            ],
            "image/png": "[encoded data removed]"
          },
          "metadata": {}
        }
      ]
    },
    {
      "cell_type": "markdown",
      "source": [
        "**Conclusion:**\n",
        "\n",
        "This project implemented a Convolutional Neural Network (CNN) in PyTorch to classify digits from the MNIST dataset. Key highlights include:\n",
        "\n",
        "\n",
        "1.   **Data Preparation:** MNIST dataset normalized and transformed using PyTorch.\n",
        "2.   **Model:** CNN architecture with convolutional and fully connected layers.\n",
        "3.   **Training:** Model trained over 5 epochs using Adam optimizer and cross-entropy loss.\n",
        "4.   **Results:** Achieved ~98% test accuracy, demonstrating effective digit recognition.\n",
        "5.   **Visualization:** Sample images visualized with predicted labels, showcasing model performance.\n",
        "\n",
        "This project underscores CNNs' efficacy in image classification tasks, particularly on complex datasets like MNIST. This concise conclusion encapsulates the main achievements and outcomes of implementing the CNN for digit classification using PyTorch on the MNIST dataset."
      ],
      "metadata": {
        "id": "VIwd_9_UWN2T"
      }
    }
  ]
}